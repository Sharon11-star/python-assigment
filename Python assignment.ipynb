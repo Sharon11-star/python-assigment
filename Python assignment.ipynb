{
 "cells": [
  {
   "cell_type": "code",
   "execution_count": 1,
   "id": "66760e72-5e56-48e7-86a2-9998e58e0456",
   "metadata": {},
   "outputs": [],
   "source": [
    "#1. KEY FEATURES OF PYTHON\n",
    "##1. It is easy to learn and use - Python is easy to learn and use as compared to C++ or java. Anyone can learn the basics of python in some days. It does not use curly brackets or semicolons instead it uses indentation for differentiating code blocks.\n",
    "##2. It is a portable and integrated language - It is one of the most portable languages. It’s cross platform and can run on any operating system such as window , mac , linux.\n",
    "##3. Easy to read - Because of it’s simple structure and indentation it is easy to read and understand.\n",
    "##4. It has a dynamic memory allocation - It has a lot of space for storing data. \n",
    "##5. It has a lot of libraries\n"
   ]
  },
  {
   "cell_type": "code",
   "execution_count": 2,
   "id": "93274fa8-91ea-4bf1-93f2-0f2815961fe2",
   "metadata": {},
   "outputs": [
    {
     "name": "stdout",
     "output_type": "stream",
     "text": [
      "The number is greater than 10\n"
     ]
    }
   ],
   "source": [
    "#2.ROLE OF PREDEFINED KEYWORDS\n",
    "## Keywords hold a special meaning and have specific purpose in python. The purpose of keyword is to define the syntax of the code. There are 35 keywords in python.\n",
    "##When there is True and False used in a python then it is known as boolean value.\n",
    "##True = 1 and False = 0.\n",
    "##When there is nothing it is known as none\n",
    "##IF - it helps to code decisions  based on some predictions. For example\n",
    "a = 100\n",
    "if a > 10:\n",
    "    print(\"The number is greater than 10\")\n"
   ]
  },
  {
   "cell_type": "code",
   "execution_count": 3,
   "id": "8919148d-4005-4a76-a6cb-0fad12a2aa03",
   "metadata": {},
   "outputs": [
    {
     "name": "stdout",
     "output_type": "stream",
     "text": [
      "1\n",
      "2\n",
      "3\n",
      "4\n",
      "5\n",
      "6\n"
     ]
    }
   ],
   "source": [
    "##WHILE - it repeatedly executes a block of code until a condition is met. For example\n",
    "n = 7\n",
    "i = 1\n",
    "while i < n:\n",
    "    print(i)\n",
    "    i = i + 1"
   ]
  },
  {
   "cell_type": "code",
   "execution_count": 4,
   "id": "7de750b8-4183-41ba-9777-740f0e8d75a3",
   "metadata": {},
   "outputs": [
    {
     "name": "stdout",
     "output_type": "stream",
     "text": [
      "I will not play cricket\n"
     ]
    }
   ],
   "source": [
    "##ELSE- when the if condition is not true then the else condition will be printed.\n",
    "weather = \"rainy\"\n",
    "if weather == \"sunny\":\n",
    "    print(\"I will play cricket\")\n",
    "else:\n",
    "    print(\"I will not play cricket\")\n"
   ]
  },
  {
   "cell_type": "code",
   "execution_count": 5,
   "id": "7164c2b6-a07d-46ff-9dca-296a52b67bb7",
   "metadata": {},
   "outputs": [
    {
     "data": {
      "text/plain": [
       "[1, 2, 3, 4.5, (5+6j), True]"
      ]
     },
     "execution_count": 5,
     "metadata": {},
     "output_type": "execute_result"
    }
   ],
   "source": [
    "#3. MUTABLE AND IMMUTABLE OBJECTS\n",
    "##Objects/ container whose state or value can be changed after they are created are called as mutable objects. For example \n",
    "##List is a type of mutable object. \n",
    "list_cont = [ 1 , 2 , 3 , 4.5 ,5+6j , True]\n",
    "list_cont"
   ]
  },
  {
   "cell_type": "code",
   "execution_count": 6,
   "id": "aa27e297-1ea7-49ea-9813-b30a0fb682d0",
   "metadata": {},
   "outputs": [
    {
     "data": {
      "text/plain": [
       "2"
      ]
     },
     "execution_count": 6,
     "metadata": {},
     "output_type": "execute_result"
    }
   ],
   "source": [
    "list_cont[1]"
   ]
  },
  {
   "cell_type": "code",
   "execution_count": 7,
   "id": "11779cae-0e3d-4577-85c3-1d2e065de4c0",
   "metadata": {},
   "outputs": [],
   "source": [
    "##Objects / container whose state or value can’t be changed after they are created is known as immutable objects For example strings."
   ]
  },
  {
   "cell_type": "code",
   "execution_count": 8,
   "id": "2001cc93-673d-4983-92d2-a3407dd42515",
   "metadata": {},
   "outputs": [
    {
     "data": {
      "text/plain": [
       "9"
      ]
     },
     "execution_count": 8,
     "metadata": {},
     "output_type": "execute_result"
    }
   ],
   "source": [
    "#4.OPERATORS IN PYTHON\n",
    "\n",
    "##ARITHMETIC OPERATORS-\n",
    "## Used to add , subtract , multiply , divide. For example\n",
    "a = 5\n",
    "b = 4\n",
    "a + b"
   ]
  },
  {
   "cell_type": "code",
   "execution_count": 9,
   "id": "5bd9cb5e-11ba-4b8d-936a-c9ac0731f430",
   "metadata": {},
   "outputs": [
    {
     "data": {
      "text/plain": [
       "1"
      ]
     },
     "execution_count": 9,
     "metadata": {},
     "output_type": "execute_result"
    }
   ],
   "source": [
    "#MODULUS OPERATORS -\n",
    "##Used to find out the remainder . For example\n",
    "21 % 4 "
   ]
  },
  {
   "cell_type": "code",
   "execution_count": 10,
   "id": "c95c755f-d258-4c41-823b-1f52334f14ba",
   "metadata": {},
   "outputs": [
    {
     "data": {
      "text/plain": [
       "1"
      ]
     },
     "execution_count": 10,
     "metadata": {},
     "output_type": "execute_result"
    }
   ],
   "source": [
    "#FLOOR OPERATOR -\n",
    "##It is used to get the simplest value of decimal form. For example\n",
    "4/3 ==  1.33333\n",
    "4 // 3"
   ]
  },
  {
   "cell_type": "code",
   "execution_count": 11,
   "id": "84414ddb-f33c-458c-8517-832f6311a900",
   "metadata": {},
   "outputs": [
    {
     "data": {
      "text/plain": [
       "True"
      ]
     },
     "execution_count": 11,
     "metadata": {},
     "output_type": "execute_result"
    }
   ],
   "source": [
    "#COMPARISON OPERATOR -\n",
    "##It compares two values and gives the answer in a boolean form . For example\n",
    "2 == 2\n"
   ]
  },
  {
   "cell_type": "code",
   "execution_count": 12,
   "id": "612076f6-0637-449e-8278-c15212e3b5ae",
   "metadata": {},
   "outputs": [
    {
     "data": {
      "text/plain": [
       "0"
      ]
     },
     "execution_count": 12,
     "metadata": {},
     "output_type": "execute_result"
    }
   ],
   "source": [
    "#LOGICAL OPERATOR -\n",
    "##There are 2 types of logical operators – AND , OR\n",
    "## AND OPERATOR\n",
    "True and True - True\n",
    "True and False - False\n",
    "False and True - False\n",
    "False and False - False\n",
    "\n",
    "##OR OPERATOR\n",
    "True or True - True\n",
    "True or False - True\n",
    "False or True - True \n",
    "False or False - False\n",
    "\n"
   ]
  },
  {
   "cell_type": "code",
   "execution_count": 13,
   "id": "4f393900-a62f-4cb2-8948-455a5d89f466",
   "metadata": {},
   "outputs": [
    {
     "data": {
      "text/plain": [
       "False"
      ]
     },
     "execution_count": 13,
     "metadata": {},
     "output_type": "execute_result"
    }
   ],
   "source": [
    "# NOT OPERATOR\n",
    "##When you run a code -\n",
    "not True "
   ]
  },
  {
   "cell_type": "code",
   "execution_count": 14,
   "id": "b467e8a5-1d76-4cc3-bbb5-8ed68eb6dba4",
   "metadata": {},
   "outputs": [],
   "source": [
    "#ASSIGNMENT OPERATOR\n",
    "##As the name suggests , it assigns the value to the variables. For example\n",
    "a = 5      \n",
    "a = a + 5\n",
    "a = 10"
   ]
  },
  {
   "cell_type": "code",
   "execution_count": 15,
   "id": "a0a4cb0b-538d-4389-aae5-4cb07dc64e3c",
   "metadata": {},
   "outputs": [
    {
     "data": {
      "text/plain": [
       "True"
      ]
     },
     "execution_count": 15,
     "metadata": {},
     "output_type": "execute_result"
    }
   ],
   "source": [
    "#MEMBERSHIP OPERATOR\n",
    "##We use this operator when you want to find out that if there is any specific alphabet in the running code. For example\n",
    "a = \"sharon\"\n",
    "\"n\" in a \n"
   ]
  },
  {
   "cell_type": "code",
   "execution_count": 16,
   "id": "1b02d8bd-7df4-4c96-a74a-1d3dc64d7e9d",
   "metadata": {},
   "outputs": [
    {
     "data": {
      "text/plain": [
       "False"
      ]
     },
     "execution_count": 16,
     "metadata": {},
     "output_type": "execute_result"
    }
   ],
   "source": [
    "#IDENTITY OPERATOR\n",
    "##It compares the value of 2 variables. For example\n",
    "a = 5\n",
    "b = 6\n",
    "a is b "
   ]
  },
  {
   "cell_type": "code",
   "execution_count": 17,
   "id": "80907290-961f-4da3-bcd3-16a981b64951",
   "metadata": {},
   "outputs": [
    {
     "data": {
      "text/plain": [
       "'0b1010'"
      ]
     },
     "execution_count": 17,
     "metadata": {},
     "output_type": "execute_result"
    }
   ],
   "source": [
    "#BIT WISE OPERATOR\n",
    "##It performs operations on but level\n",
    "##Represents data or integer in the form of a bit. \n",
    "bin(10)"
   ]
  },
  {
   "cell_type": "code",
   "execution_count": 18,
   "id": "40f79130-716c-4c13-9b58-24219dd02e01",
   "metadata": {},
   "outputs": [
    {
     "data": {
      "text/plain": [
       "'0b10'"
      ]
     },
     "execution_count": 18,
     "metadata": {},
     "output_type": "execute_result"
    }
   ],
   "source": [
    "bin(18&3)"
   ]
  },
  {
   "cell_type": "code",
   "execution_count": 19,
   "id": "d07504a0-b382-4707-9427-cb183dc78cc2",
   "metadata": {},
   "outputs": [
    {
     "data": {
      "text/plain": [
       "'0b1000011'"
      ]
     },
     "execution_count": 19,
     "metadata": {},
     "output_type": "execute_result"
    }
   ],
   "source": [
    "#SHIFT OPERATOR\n",
    "##It shifts the bit either left or right\n",
    "bin(67)"
   ]
  },
  {
   "cell_type": "code",
   "execution_count": 20,
   "id": "0c059a1b-2a52-4983-ba9d-cb3709d9344c",
   "metadata": {},
   "outputs": [
    {
     "data": {
      "text/plain": [
       "2.0"
      ]
     },
     "execution_count": 20,
     "metadata": {},
     "output_type": "execute_result"
    }
   ],
   "source": [
    "#5. TYPE CASTING\n",
    "##It is the process of changing the data type of a value or object.\n",
    "##We use type casting beacuse while xecuting operators, there can be mismatchbetween them.\n",
    "a = 2\n",
    "float(a)"
   ]
  },
  {
   "cell_type": "code",
   "execution_count": 21,
   "id": "d7c7f6b8-2183-4dc0-be6b-c42156ebce71",
   "metadata": {},
   "outputs": [
    {
     "data": {
      "text/plain": [
       "'5'"
      ]
     },
     "execution_count": 21,
     "metadata": {},
     "output_type": "execute_result"
    }
   ],
   "source": [
    "b = 5\n",
    "str(b)"
   ]
  },
  {
   "cell_type": "code",
   "execution_count": 22,
   "id": "b4cdb5fa-7f1f-44d9-8357-1234b7aefe2f",
   "metadata": {},
   "outputs": [
    {
     "data": {
      "text/plain": [
       "2.3"
      ]
     },
     "execution_count": 22,
     "metadata": {},
     "output_type": "execute_result"
    }
   ],
   "source": [
    "c = \"2.3\"\n",
    "float(c)"
   ]
  },
  {
   "cell_type": "code",
   "execution_count": 23,
   "id": "d8c1dd02-76bf-455c-86ae-3e7b78d5fd60",
   "metadata": {},
   "outputs": [
    {
     "data": {
      "text/plain": [
       "4"
      ]
     },
     "execution_count": 23,
     "metadata": {},
     "output_type": "execute_result"
    }
   ],
   "source": [
    "d = 4.3\n",
    "int(d)"
   ]
  },
  {
   "cell_type": "code",
   "execution_count": 24,
   "id": "e608cbe1-2067-46ca-94e9-b4135f34f26b",
   "metadata": {},
   "outputs": [
    {
     "name": "stdout",
     "output_type": "stream",
     "text": [
      "I will not play\n"
     ]
    }
   ],
   "source": [
    "#6. CONDITIONAL STATEMENTS\n",
    "##It helps to code conditions based on some predictions. \n",
    "##IF STATEMENT\n",
    "weather = \"rainy\"\n",
    "if weather == \"rainy\":\n",
    "    print(\"I will not play\")"
   ]
  },
  {
   "cell_type": "code",
   "execution_count": 25,
   "id": "5eb6aa98-3682-421d-a25b-8cb58ae80669",
   "metadata": {},
   "outputs": [
    {
     "name": "stdout",
     "output_type": "stream",
     "text": [
      "The number is greater than 0\n"
     ]
    }
   ],
   "source": [
    "a = 100\n",
    "if a > 0:\n",
    "    print(\"The number is greater than 0\")"
   ]
  },
  {
   "cell_type": "code",
   "execution_count": 26,
   "id": "3bf4ed9a-23fb-4ac3-9d32-0fd1547253fb",
   "metadata": {},
   "outputs": [
    {
     "name": "stdout",
     "output_type": "stream",
     "text": [
      "The number is greater than 0\n"
     ]
    }
   ],
   "source": [
    "a = 100\n",
    "if a > 0:\n",
    "    print(\"The number is greater than 0\")"
   ]
  },
  {
   "cell_type": "code",
   "execution_count": 27,
   "id": "fc2e0300-e280-4cfb-95b3-1d8273b2a704",
   "metadata": {},
   "outputs": [
    {
     "name": "stdout",
     "output_type": "stream",
     "text": [
      "i will not play cricket\n"
     ]
    }
   ],
   "source": [
    "##IF-ELSE STATEMENT\n",
    "weather = \"rainy\"\n",
    "if weather == \"rainy\":\n",
    "    print(\"i will not play cricket\")\n",
    "else:\n",
    "    print(\"i will watch tv\")"
   ]
  },
  {
   "cell_type": "code",
   "execution_count": 28,
   "id": "14e4b41a-87b3-42f4-a3bc-8d4010d6fa5e",
   "metadata": {},
   "outputs": [
    {
     "name": "stdout",
     "output_type": "stream",
     "text": [
      "the number is equal to 200\n"
     ]
    }
   ],
   "source": [
    "##IF-ELIF-ELSE STATEMENT\n",
    "a = 200\n",
    "if a > 200:\n",
    "    print(\"the number is printed\")\n",
    "elif a < 200:\n",
    "    print(\"the number is not printed\")\n",
    "else:\n",
    "    print(\"the number is equal to 200\")"
   ]
  },
  {
   "cell_type": "code",
   "execution_count": 29,
   "id": "48e4f8d1-49dd-45e1-9c4c-7ae7aa281f9c",
   "metadata": {},
   "outputs": [],
   "source": [
    "#7. LOOP STATEMENTS\n",
    "##It allows you to execute a block of code repeatedly\n",
    "##There are 2 types of loop statements"
   ]
  },
  {
   "cell_type": "code",
   "execution_count": 30,
   "id": "a5858c18-b200-4c3c-a9c8-6b6bb0924003",
   "metadata": {},
   "outputs": [
    {
     "name": "stdout",
     "output_type": "stream",
     "text": [
      "2\n",
      "3\n",
      "4\n",
      "5\n",
      "6\n",
      "7\n"
     ]
    }
   ],
   "source": [
    "#WHILE LOOP\n",
    "##It repeatedly executes a block of code until a condition is met.\n",
    "n = 8\n",
    "i = 2\n",
    "while i < n:\n",
    "    print(i)\n",
    "    i=i+1"
   ]
  },
  {
   "cell_type": "code",
   "execution_count": 31,
   "id": "4dfb6471-63d2-44ee-b8b4-8fad6b039786",
   "metadata": {},
   "outputs": [
    {
     "name": "stdout",
     "output_type": "stream",
     "text": [
      "2\n",
      "3\n",
      "4\n",
      "5\n",
      "6\n",
      "7\n",
      "this is wrong\n"
     ]
    }
   ],
   "source": [
    "#while else statement\n",
    "##this will be executed when the 'while' is run successfully without any break\n",
    "n = 8\n",
    "i = 2\n",
    "while i < n:\n",
    "    print(i)\n",
    "    i=i+1\n",
    "else:\n",
    "    print(\"this is wrong\")"
   ]
  },
  {
   "cell_type": "code",
   "execution_count": 32,
   "id": "965f2a11-f744-4d23-aae3-2d14acd61eb5",
   "metadata": {},
   "outputs": [
    {
     "name": "stdout",
     "output_type": "stream",
     "text": [
      "2\n"
     ]
    }
   ],
   "source": [
    "#break statement\n",
    "##it breaks the loop\n",
    "n = 8\n",
    "i = 2\n",
    "while i < n:\n",
    "    print(i)\n",
    "    i=i+1\n",
    "    if i == 3:\n",
    "        break"
   ]
  },
  {
   "cell_type": "code",
   "execution_count": 33,
   "id": "04735220-65a5-494a-885b-19842d87bcdb",
   "metadata": {},
   "outputs": [
    {
     "name": "stdout",
     "output_type": "stream",
     "text": [
      "1\n",
      "2\n",
      "3\n",
      "4\n",
      "5\n",
      "6\n"
     ]
    }
   ],
   "source": [
    "#continue statement\n",
    "##it does not breaks the loop. it ignores the 'if' condition when it is true and keeps the loop going\n",
    "n = 7\n",
    "i = 1\n",
    "while i < n:\n",
    "    print(i)\n",
    "    i=i+1\n",
    "    if i == 3:\n",
    "        continue"
   ]
  },
  {
   "cell_type": "code",
   "execution_count": 34,
   "id": "2b4f196a-79e7-4b4d-bf1a-6e569986560a",
   "metadata": {},
   "outputs": [
    {
     "name": "stdout",
     "output_type": "stream",
     "text": [
      "s\n",
      "h\n",
      "a\n",
      "r\n",
      "o\n",
      "n\n"
     ]
    }
   ],
   "source": [
    "#FOR LOOP STATEMENT\n",
    "##It tries to access the data in asequence way.\n",
    "for i in \"sharon\":\n",
    "    print(i)"
   ]
  },
  {
   "cell_type": "code",
   "execution_count": 35,
   "id": "868249c8-b837-4414-b5db-f0bbf1ab828b",
   "metadata": {},
   "outputs": [
    {
     "name": "stdout",
     "output_type": "stream",
     "text": [
      "1\n",
      "2\n",
      "sharon\n",
      "aman\n"
     ]
    }
   ],
   "source": [
    "l = [1 , 2 , \"sharon\" , \"aman\"]\n",
    "for i in l:\n",
    "    print(i)"
   ]
  },
  {
   "cell_type": "code",
   "execution_count": null,
   "id": "bd8c5fac-d9c6-462e-b18f-d8e9855b1429",
   "metadata": {},
   "outputs": [],
   "source": []
  }
 ],
 "metadata": {
  "kernelspec": {
   "display_name": "Python 3 (ipykernel)",
   "language": "python",
   "name": "python3"
  },
  "language_info": {
   "codemirror_mode": {
    "name": "ipython",
    "version": 3
   },
   "file_extension": ".py",
   "mimetype": "text/x-python",
   "name": "python",
   "nbconvert_exporter": "python",
   "pygments_lexer": "ipython3",
   "version": "3.10.8"
  }
 },
 "nbformat": 4,
 "nbformat_minor": 5
}
